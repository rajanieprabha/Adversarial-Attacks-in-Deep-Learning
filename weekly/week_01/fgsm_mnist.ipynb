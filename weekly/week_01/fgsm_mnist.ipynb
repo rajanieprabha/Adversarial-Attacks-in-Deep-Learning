{
 "cells": [
  {
   "cell_type": "markdown",
   "metadata": {},
   "source": [
    "# Fast Gradient Sign Method\n",
    "# MNIST Example"
   ]
  },
  {
   "cell_type": "markdown",
   "metadata": {},
   "source": [
    "### Imports"
   ]
  },
  {
   "cell_type": "code",
   "execution_count": 1,
   "metadata": {},
   "outputs": [
    {
     "name": "stderr",
     "output_type": "stream",
     "text": [
      "/home/jungj/anaconda3/lib/python3.6/site-packages/h5py/__init__.py:36: FutureWarning: Conversion of the second argument of issubdtype from `float` to `np.floating` is deprecated. In future, it will be treated as `np.float64 == np.dtype(float).type`.\n",
      "  from ._conv import register_converters as _register_converters\n"
     ]
    }
   ],
   "source": [
    "import tensorflow as tf\n",
    "import numpy as np\n",
    "import matplotlib.pyplot as plt\n",
    "import matplotlib.gridspec as gridspec"
   ]
  },
  {
   "cell_type": "markdown",
   "metadata": {},
   "source": [
    "Version info:"
   ]
  },
  {
   "cell_type": "code",
   "execution_count": 2,
   "metadata": {},
   "outputs": [
    {
     "name": "stdout",
     "output_type": "stream",
     "text": [
      "Python version:  3.6.4 |Anaconda, Inc.| (default, Jan 16 2018, 18:10:19) \n",
      "[GCC 7.2.0]\n",
      "\n",
      "TensorFlow version:  1.8.0-dev20180330\n"
     ]
    }
   ],
   "source": [
    "import sys\n",
    "print(\"Python version: \", sys.version)\n",
    "print(\"\\nTensorFlow version: \", tf.__version__)"
   ]
  },
  {
   "cell_type": "markdown",
   "metadata": {},
   "source": [
    "### Prepare MNIST data\n",
    "MNIST can be imported using TensorFlow (Keras). It is automatically download and extracted."
   ]
  },
  {
   "cell_type": "code",
   "execution_count": 3,
   "metadata": {},
   "outputs": [],
   "source": [
    "img_size = 28\n",
    "img_chan = 1\n",
    "n_classes = 10\n",
    "\n",
    "# Download, extract and import MNIST dataset\n",
    "mnist = tf.keras.datasets.mnist\n",
    "(X_train, y_train), (X_test, y_test) = mnist.load_data()\n",
    "# Reshape and scale [0-255] -> [0.0-1.0]\n",
    "X_train = np.reshape(X_train, [-1, img_size, img_size, img_chan])\n",
    "X_train = X_train.astype(np.float32) / 255\n",
    "X_test = np.reshape(X_test, [-1, img_size, img_size, img_chan])\n",
    "X_test = X_test.astype(np.float32) / 255\n",
    "\n",
    "# Convert class labels to one-hot encoding\n",
    "to_categorical = tf.keras.utils.to_categorical\n",
    "y_train = to_categorical(y_train)\n",
    "y_test = to_categorical(y_test)\n",
    "\n",
    "# Shuffle training samples and their labels\n",
    "ind = np.random.permutation(X_train.shape[0])\n",
    "X_train, y_train = X_train[ind], y_train[ind]\n",
    "\n",
    "# Separate some training samples as validation set\n",
    "VALIDATION_SPLIT = 0.1\n",
    "n = int(X_train.shape[0] * (1-VALIDATION_SPLIT))\n",
    "X_valid = X_train[n:]\n",
    "X_train = X_train[:n]\n",
    "y_valid = y_train[n:]\n",
    "y_train = y_train[:n]"
   ]
  },
  {
   "cell_type": "markdown",
   "metadata": {},
   "source": [
    "### Define classification model\n"
   ]
  },
  {
   "cell_type": "code",
   "execution_count": 4,
   "metadata": {},
   "outputs": [],
   "source": [
    "# Define computational graph and methods for a simple CNN classifier with the ability to create adversarial examples\n",
    "# Inspired by: https://github.com/gongzhitaao/tensorflow-adversarial\n",
    "class SimpleCNN:\n",
    "    def __init__(self, sess, img_size=28,img_chan=1):\n",
    "        # Set the TF session\n",
    "        self.sess = sess\n",
    "        \n",
    "        with tf.variable_scope('model'):\n",
    "            # Define inputs and outputs of the model\n",
    "            self.x = tf.placeholder(tf.float32, (None, img_size, img_size, img_chan), name='x')\n",
    "            self.y = tf.placeholder(tf.float32, (None, n_classes), name='y')\n",
    "            self.training = tf.placeholder_with_default(False, (), name='mode') # to control dropout e.g.\n",
    "            self.y_pred, logits = self._model(self.x, logits=True, training=self.training)\n",
    "            \n",
    "            # Define metric function \n",
    "            count = tf.equal(tf.argmax(self.y, axis=1), tf.argmax(self.y_pred, axis=1))\n",
    "            self.acc = tf.reduce_mean(tf.cast(count, tf.float32), name='acc')\n",
    "\n",
    "            # Define loss and optimization procedure\n",
    "            self.loss = tf.reduce_mean(tf.nn.softmax_cross_entropy_with_logits(labels=self.y, logits=logits), name='loss')\n",
    "            optimizer = tf.train.AdamOptimizer()\n",
    "            self.train_op = optimizer.minimize(self.loss)\n",
    "            \n",
    "        with tf.variable_scope('model', reuse=True):\n",
    "            # Define computational graph to generate adversarial examples\n",
    "            self.eps = tf.placeholder(tf.float32, (), name='eps')\n",
    "            self.x_adv = self._fgsm(self.x, eps=self.eps)\n",
    "\n",
    "    def _model(self, x, logits=False, training=False):\n",
    "        # Define network architecture\n",
    "        # CONV -> POOL -> CONV -> POOL -> DENSE -> DENSE\n",
    "        with tf.variable_scope('conv0'):\n",
    "            z = tf.layers.conv2d(x, filters=32, kernel_size=[3, 3],\n",
    "                                 padding='same', activation=tf.nn.relu)\n",
    "            z = tf.layers.max_pooling2d(z, pool_size=[2, 2], strides=2)\n",
    "\n",
    "        with tf.variable_scope('conv1'):\n",
    "            z = tf.layers.conv2d(z, filters=64, kernel_size=[3, 3],\n",
    "                                 padding='same', activation=tf.nn.relu)\n",
    "            z = tf.layers.max_pooling2d(z, pool_size=[2, 2], strides=2)\n",
    "\n",
    "        with tf.variable_scope('flatten'):\n",
    "            shape = z.get_shape().as_list()\n",
    "            z = tf.reshape(z, [-1, np.prod(shape[1:])])\n",
    "\n",
    "        with tf.variable_scope('mlp'):\n",
    "            z = tf.layers.dense(z, units=128, activation=tf.nn.relu)\n",
    "            z = tf.layers.dropout(z, rate=0.25, training=training)\n",
    "\n",
    "        logits_ = tf.layers.dense(z, units=10, name='logits')\n",
    "        y = tf.nn.softmax(logits_, name='ybar')\n",
    "\n",
    "        if logits:\n",
    "            return y, logits_\n",
    "        return y\n",
    "    \n",
    "    # Define fast gradient sign method\n",
    "    def _fgsm(self, x, eps=0.01):\n",
    "        # get prediction and logits\n",
    "        y, logits = self._model(x, logits=True)\n",
    "        \n",
    "        # get predicted lables as one-hot encoding\n",
    "        indices = tf.argmax(y, axis=1)\n",
    "        target = tf.one_hot(indices, depth=y.get_shape().as_list()[1])\n",
    "        \n",
    "        #compute the sign of the gradient of the loss w.r.t. the input\n",
    "        loss = tf.nn.softmax_cross_entropy_with_logits(labels=target, logits=logits)\n",
    "        x_adv = tf.stop_gradient(x + eps * tf.sign(tf.gradients(loss, x)))\n",
    "        # clip to prevent over-/underflows\n",
    "        x_adv = tf.clip_by_value(x_adv, clip_value_min=0, clip_value_max=1)\n",
    "\n",
    "        return x_adv\n",
    "    \n",
    "    # Compute loss value and accuracy for given data\n",
    "    def evaluate(self, X_val, y_val, batch_size=128):\n",
    "        print(\"\\nEvaluating ...\")\n",
    "        \n",
    "        n_samples = X_val.shape[0]\n",
    "        n_batches = int((n_samples+batch_size-1)/batch_size)\n",
    "        loss, acc = 0, 0\n",
    "        \n",
    "        for batch in range(n_batches):\n",
    "            start = batch*batch_size\n",
    "            end = min(n_samples, start + batch_size)\n",
    "            cnt = end-start\n",
    "            batch_loss, batch_acc = sess.run([self.loss, self.acc],\n",
    "                                             feed_dict={self.x: X_val[start:end],\n",
    "                                                        self.y: y_val[start:end]})\n",
    "            loss += batch_loss * cnt\n",
    "            acc += batch_acc * cnt\n",
    "        loss /= n_samples\n",
    "        acc /= n_samples\n",
    "        \n",
    "        print(' loss: {0:.4f} acc: {1:.4f}'.format(loss, acc))\n",
    "        return loss, acc\n",
    "    \n",
    "    # Train the model on given input data, evaluate after each epoch\n",
    "    def train(self, X_train, y_train, X_val, y_val, epochs=1, shuffle=True, batch_size=128):\n",
    "        print(\"\\nTraining ...\")\n",
    "        \n",
    "        n_samples = X_train.shape[0]\n",
    "        n_batches = int((n_samples+batch_size-1)/batch_size)\n",
    "        \n",
    "        for epoch in range(epochs):\n",
    "            print(\"Epoch {0}/{1}\".format(epoch+1, epochs))\n",
    "            if shuffle:\n",
    "                ind = np.arange(n_samples)\n",
    "                np.random.shuffle(ind)\n",
    "                X_train = X_train[ind]\n",
    "                y_train = y_train[ind]\n",
    "                \n",
    "            for batch in range(n_batches):\n",
    "                start = batch*batch_size\n",
    "                end = min(n_samples, start + batch_size)\n",
    "                self.sess.run(self.train_op, feed_dict={self.x: X_train[start:end],\n",
    "                                                        self.y: y_train[start:end],\n",
    "                                                        self.training: True})\n",
    "            self.evaluate(X_valid, y_valid)\n",
    "            \n",
    "    # Predict labels for given data\n",
    "    def predict(self, X_data, batch_size=128):\n",
    "        print(\"\\nPredicting ...\")\n",
    "        n_classes = 10\n",
    "        n_samples = X_data.shape[0]\n",
    "        n_batches = int((n_samples+batch_size-1) / batch_size)\n",
    "        y_pred = np.empty((n_samples, n_classes))\n",
    "        \n",
    "        for batch in range(n_batches):\n",
    "            start = batch*batch_size\n",
    "            end = min(n_samples, start+batch_size)\n",
    "            y_batch = sess.run(self.y_pred, feed_dict={self.x: X_data[start:end]})\n",
    "            y_pred[start:end] = y_batch\n",
    "        return y_pred\n",
    "    \n",
    "    # Generate adversarial examples from given data\n",
    "    def generate_adversaries(self, X_data, eps=0.01, batch_size=128):\n",
    "        n_sample = X_data.shape[0]\n",
    "        n_batches = int((n_sample + batch_size - 1) / batch_size)\n",
    "        X_adv = np.empty_like(X_data)\n",
    "\n",
    "        for batch in range(n_batches):\n",
    "            start = batch * batch_size\n",
    "            end = min(n_sample, start + batch_size)\n",
    "            adv = self.sess.run(self.x_adv, feed_dict={\n",
    "                self.x: X_data[start:end],\n",
    "                self.eps: eps})\n",
    "            X_adv[start:end] = adv\n",
    "\n",
    "        return X_adv"
   ]
  },
  {
   "cell_type": "markdown",
   "metadata": {},
   "source": [
    "### Create TF session and initialize previously defined graph"
   ]
  },
  {
   "cell_type": "code",
   "execution_count": 5,
   "metadata": {},
   "outputs": [
    {
     "name": "stdout",
     "output_type": "stream",
     "text": [
      "WARNING:tensorflow:From <ipython-input-4-fd8c0999b5ac>:19: softmax_cross_entropy_with_logits (from tensorflow.python.ops.nn_ops) is deprecated and will be removed in a future version.\n",
      "Instructions for updating:\n",
      "\n",
      "Future major versions of TensorFlow will allow gradients to flow\n",
      "into the labels input on backprop by default.\n",
      "\n",
      "See tf.nn.softmax_cross_entropy_with_logits_v2.\n",
      "\n"
     ]
    }
   ],
   "source": [
    "tf.reset_default_graph()\n",
    "# if sess is not None: sess.close()\n",
    "sess = tf.InteractiveSession()\n",
    "simpleCNN = SimpleCNN(sess)\n",
    "sess.run(tf.global_variables_initializer())\n",
    "sess.run(tf.local_variables_initializer())"
   ]
  },
  {
   "cell_type": "code",
   "execution_count": 6,
   "metadata": {},
   "outputs": [
    {
     "name": "stdout",
     "output_type": "stream",
     "text": [
      "\n",
      "Training ...\n",
      "Epoch 1/3\n",
      "\n",
      "Evaluating ...\n",
      " loss: 0.0698 acc: 0.9782\n",
      "Epoch 2/3\n",
      "\n",
      "Evaluating ...\n",
      " loss: 0.0458 acc: 0.9862\n",
      "Epoch 3/3\n",
      "\n",
      "Evaluating ...\n",
      " loss: 0.0440 acc: 0.9867\n"
     ]
    }
   ],
   "source": [
    "simpleCNN.train(X_train, y_train, X_valid, y_valid, epochs=3)"
   ]
  },
  {
   "cell_type": "code",
   "execution_count": 7,
   "metadata": {},
   "outputs": [
    {
     "name": "stdout",
     "output_type": "stream",
     "text": [
      "\n",
      "Evaluating ...\n",
      " loss: 0.0305 acc: 0.9901\n"
     ]
    },
    {
     "data": {
      "text/plain": [
       "(0.03045549012282863, 0.9901)"
      ]
     },
     "execution_count": 7,
     "metadata": {},
     "output_type": "execute_result"
    }
   ],
   "source": [
    "simpleCNN.evaluate(X_test,y_test)"
   ]
  },
  {
   "cell_type": "code",
   "execution_count": 8,
   "metadata": {},
   "outputs": [
    {
     "name": "stdout",
     "output_type": "stream",
     "text": [
      "\n",
      "Evaluating ...\n",
      " loss: 0.9309 acc: 0.6926\n"
     ]
    },
    {
     "data": {
      "text/plain": [
       "(0.9308546092033386, 0.6926)"
      ]
     },
     "execution_count": 8,
     "metadata": {},
     "output_type": "execute_result"
    }
   ],
   "source": [
    "X_adv = simpleCNN.generate_adversaries(X_test, eps=0.15)\n",
    "simpleCNN.evaluate(X_adv,y_test)"
   ]
  },
  {
   "cell_type": "code",
   "execution_count": 11,
   "metadata": {},
   "outputs": [
    {
     "name": "stdout",
     "output_type": "stream",
     "text": [
      "\n",
      "Predicting ...\n",
      "\n",
      "Predicting ...\n",
      "{0, 1, 2, 3, 4, 5, 6, 7, 8, 9}\n",
      "{0, 1, 2, 3, 4, 5, 6, 7, 8, 9}\n",
      "{0, 1, 2, 3, 4, 5, 6, 7, 8, 9}\n",
      "Target 0\n",
      "Target 1\n",
      "Target 2\n",
      "Target 3\n",
      "Target 4\n",
      "Target 5\n",
      "Target 6\n",
      "Target 7\n",
      "Target 8\n",
      "Target 9\n",
      "\n",
      "Plotting results\n"
     ]
    },
    {
     "data": {
      "image/png": "[encoded data removed]",
      "text/plain": [
       "<matplotlib.figure.Figure at 0x7f0b3079b278>"
      ]
     },
     "metadata": {},
     "output_type": "display_data"
    }
   ],
   "source": [
    "y1 = simpleCNN.predict(X_test)\n",
    "y2 = simpleCNN.predict(X_adv)\n",
    "\n",
    "z0 = np.argmax(y_test, axis=1)\n",
    "z1 = np.argmax(y1, axis=1)\n",
    "z2 = np.argmax(y2, axis=1)\n",
    "\n",
    "# print(set(z0))\n",
    "# print(set(z1))\n",
    "# print(set(z2))\n",
    "\n",
    "X_tmp = np.empty((10, 28, 28))\n",
    "y_tmp = np.empty((10, 10))\n",
    "for i in range(10):\n",
    "    print('Target {0}'.format(i))\n",
    "    ind, = np.where(np.all([z0 == i, z1 == i, z2 != i], axis=0))\n",
    "    cur = np.random.choice(ind)\n",
    "    X_tmp[i] = np.squeeze(X_adv[cur])\n",
    "    y_tmp[i] = y2[cur]\n",
    "\n",
    "print('\\nPlotting results')\n",
    "\n",
    "fig = plt.figure(figsize=(10, 1.2))\n",
    "gs = gridspec.GridSpec(1, 10, wspace=0.05, hspace=0.05)\n",
    "\n",
    "label = np.argmax(y_tmp, axis=1)\n",
    "proba = np.max(y_tmp, axis=1)\n",
    "for i in range(10):\n",
    "    ax = fig.add_subplot(gs[0, i])\n",
    "    ax.imshow(X_tmp[i], cmap='gray', interpolation='none')\n",
    "    ax.set_xticks([])\n",
    "    ax.set_yticks([])\n",
    "    ax.set_xlabel('{0} ({1:.2f})'.format(label[i], proba[i]),\n",
    "                  fontsize=12)\n",
    "    \n",
    "plt.savefig(\"adv_example.png\")"
   ]
  },
  {
   "cell_type": "code",
   "execution_count": null,
   "metadata": {},
   "outputs": [],
   "source": []
  }
 ],
 "metadata": {
  "kernelspec": {
   "display_name": "Python 3",
   "language": "python",
   "name": "python3"
  },
  "language_info": {
   "codemirror_mode": {
    "name": "ipython",
    "version": 3
   },
   "file_extension": ".py",
   "mimetype": "text/x-python",
   "name": "python",
   "nbconvert_exporter": "python",
   "pygments_lexer": "ipython3",
   "version": "3.6.4"
  }
 },
 "nbformat": 4,
 "nbformat_minor": 2
}
